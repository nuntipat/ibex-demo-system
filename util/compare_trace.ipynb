{
 "cells": [
  {
   "cell_type": "code",
   "execution_count": null,
   "metadata": {},
   "outputs": [],
   "source": [
    "from pyDigitalWaveTools.vcd.parser import VcdParser\n",
    "import pandas as pd\n",
    "\n",
    "def load_signals_to_df(names, data):\n",
    "    max_time = max([max([kv[0] for kv in d]) for d in data])\n",
    "\n",
    "    df = None\n",
    "    for i in range(len(data)):\n",
    "        name = names[i]\n",
    "        d = data[i]\n",
    "\n",
    "        tmp = pd.DataFrame(d, columns=['time', name]).set_index(['time'])\n",
    "        tmp = tmp.reindex(pd.RangeIndex(0, max_time+1), method='ffill')\n",
    "\n",
    "        if i == 0:\n",
    "            df = tmp\n",
    "        else:\n",
    "            df = df.join(tmp)\n",
    "            \n",
    "    return df\n",
    "\n",
    "def load_trace(filename, signals):\n",
    "    with open(filename) as fp:\n",
    "        vcd = VcdParser()\n",
    "        vcd.parse(fp)\n",
    "\n",
    "        names = [signal[-1] for signal in signals]\n",
    "        data = []\n",
    "        for signal in signals:\n",
    "            trace = vcd.scope.children[signal[0]]\n",
    "            for path in signal[1:]:\n",
    "                trace = trace.children[path]\n",
    "            data.append(trace.data)\n",
    "\n",
    "        return load_signals_to_df(names, data)"
   ]
  },
  {
   "attachments": {},
   "cell_type": "markdown",
   "metadata": {},
   "source": [
    "## Trace generation\n",
    "\n",
    "1. Run the following command in the root directory to generate sim_shufflev.fst \n",
    "\n",
    "    ```\n",
    "    ./build/lowrisc_ibex_demo_system_0/sim-verilator/Vibex_demo_system -t --meminit=ram,tfmicro_sine,elf && cp sim.fst sim_shufflev.fst && rm sim.fst\n",
    "    ```\n",
    "\n",
    "    or (for customize the random seed)\n",
    "\n",
    "    ```\n",
    "    ./build/lowrisc_ibex_demo_system_0/sim-verilator/Vibex_demo_system -t --meminit=ram,tfmicro_sine,elf +verilator+seed+2 && cp sim.fst sim_shufflev.fst && rm sim.fst\n",
    "    ```\n",
    "\n",
    "2. Open the trace in gtkwave and load the setting file (util/sim_shufflev.gtkw)"
   ]
  },
  {
   "cell_type": "code",
   "execution_count": null,
   "metadata": {},
   "outputs": [],
   "source": [
    "ibex_trace_df = load_trace('../sim_ibex.vcd', [['TOP', 'ibex_demo_system', 'u_top', 'u_ibex_core', 'if_stage_i', 'gen_prefetch_buffer', 'prefetch_buffer_i', 'clk_i'],\n",
    "                                               ['TOP', 'ibex_demo_system', 'u_top', 'u_ibex_core', 'if_stage_i', 'gen_prefetch_buffer', 'prefetch_buffer_i', 'addr_o[31:0]'],\n",
    "                                               ['TOP', 'ibex_demo_system', 'u_top', 'u_ibex_core', 'if_stage_i', 'gen_prefetch_buffer', 'prefetch_buffer_i', 'rdata_o[31:0]'],\n",
    "                                               ['TOP', 'ibex_demo_system', 'u_top', 'u_ibex_core', 'if_stage_i', 'gen_prefetch_buffer', 'prefetch_buffer_i', 'ready_i'],\n",
    "                                               ['TOP', 'ibex_demo_system', 'u_top', 'u_ibex_core', 'if_stage_i', 'gen_prefetch_buffer', 'prefetch_buffer_i', 'valid_o'],\n",
    "                                               ['TOP', 'ibex_demo_system', 'u_top', 'u_ibex_core', 'if_stage_i', 'gen_prefetch_buffer', 'prefetch_buffer_i', 'branch_i'],\n",
    "                                               ['TOP', 'ibex_demo_system', 'u_top', 'u_ibex_core', 'if_stage_i', 'instr_decompressed[31:0]']])\n",
    "shufflev_trace_df = load_trace('../sim_shufflev.vcd', [['TOP', 'ibex_demo_system', 'u_top', 'u_ibex_core', 'if_stage_i', 'gen_prefetch_buffer', 'prefetch_buffer_i', 'clk_i'],\n",
    "                                                       ['TOP', 'ibex_demo_system', 'u_top', 'u_ibex_core', 'if_stage_i', 'gen_prefetch_buffer', 'prefetch_buffer_i', 'addr_o[31:0]'],\n",
    "                                                       ['TOP', 'ibex_demo_system', 'u_top', 'u_ibex_core', 'if_stage_i', 'gen_prefetch_buffer', 'prefetch_buffer_i', 'rdata_o[31:0]'],\n",
    "                                                       ['TOP', 'ibex_demo_system', 'u_top', 'u_ibex_core', 'if_stage_i', 'gen_prefetch_buffer', 'prefetch_buffer_i', 'ready_i'],\n",
    "                                                       ['TOP', 'ibex_demo_system', 'u_top', 'u_ibex_core', 'if_stage_i', 'gen_prefetch_buffer', 'prefetch_buffer_i', 'valid_o'],\n",
    "                                                       ['TOP', 'ibex_demo_system', 'u_top', 'u_ibex_core', 'if_stage_i', 'gen_prefetch_buffer', 'prefetch_buffer_i', 'branch_i'],\n",
    "                                                       ['TOP', 'ibex_demo_system', 'u_top', 'u_ibex_core', 'if_stage_i', 'gen_prefetch_buffer', 'prefetch_buffer_i', 'fetch_id_idex[31:0]']])\n",
    "\n",
    "ibex_trace_df_filter = ibex_trace_df[(ibex_trace_df['clk_i'] == '1') & (ibex_trace_df['ready_i'] == '1') & (ibex_trace_df['valid_o'] == '1') & (ibex_trace_df['branch_i'] == '0')]\n",
    "shufflev_trace_df_filter = shufflev_trace_df[(shufflev_trace_df['clk_i'] == '1') & (shufflev_trace_df['ready_i'] == '1') & (shufflev_trace_df['valid_o'] == '1') & (shufflev_trace_df['branch_i'] == '0')]"
   ]
  },
  {
   "cell_type": "code",
   "execution_count": null,
   "metadata": {},
   "outputs": [],
   "source": [
    "shufflev_trace_df_filter = shufflev_trace_df_filter.sort_values(by=['fetch_id_idex[31:0]'], key=lambda col: [int(c[1:], base=2) for c in col])"
   ]
  },
  {
   "cell_type": "code",
   "execution_count": null,
   "metadata": {},
   "outputs": [],
   "source": [
    "for t1, t2 in zip(ibex_trace_df_filter.iterrows(), shufflev_trace_df_filter.iterrows()):\n",
    "    # print (t1[0], hex(int(t1[1]['addr_o[31:0]'][1:], base=2)), hex(int(t1[1]['rdata_o[31:0]'][1:], base=2)), \n",
    "    #        t2[0], hex(int(t2[1]['addr_o[31:0]'][1:], base=2)), hex(int(t2[1]['rdata_o[31:0]'][1:], base=2)))\n",
    "    if (t1[1]['addr_o[31:0]'] != t2[1]['addr_o[31:0]']) or (t1[1]['instr_decompressed[31:0]'] != t2[1]['rdata_o[31:0]']):\n",
    "        print ('Trace mismatch at timestamp: ', t1[0], t2[0])\n",
    "        break"
   ]
  }
 ],
 "metadata": {
  "kernelspec": {
   "display_name": "ibex",
   "language": "python",
   "name": "python3"
  },
  "language_info": {
   "codemirror_mode": {
    "name": "ipython",
    "version": 3
   },
   "file_extension": ".py",
   "mimetype": "text/x-python",
   "name": "python",
   "nbconvert_exporter": "python",
   "pygments_lexer": "ipython3",
   "version": "3.8.16"
  },
  "orig_nbformat": 4
 },
 "nbformat": 4,
 "nbformat_minor": 2
}
