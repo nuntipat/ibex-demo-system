{
 "cells": [
  {
   "cell_type": "code",
   "execution_count": 57,
   "metadata": {},
   "outputs": [],
   "source": [
    "from pyDigitalWaveTools.vcd.parser import VcdParser\n",
    "import pandas as pd\n",
    "\n",
    "def load_signals_to_df(root, names):\n",
    "    data = [root.children[name].data for name in names]\n",
    "\n",
    "    max_time = max([max([kv[0] for kv in d]) for d in data])\n",
    "\n",
    "    df = None\n",
    "    for i in range(len(data)):\n",
    "        name = names[i]\n",
    "        d = data[i]\n",
    "\n",
    "        tmp = pd.DataFrame(d, columns=['time', name]).set_index(['time'])\n",
    "        tmp = tmp.reindex(pd.RangeIndex(0, max_time+1), method='ffill')\n",
    "\n",
    "        if i == 0:\n",
    "            df = tmp\n",
    "        else:\n",
    "            df = df.join(tmp)\n",
    "\n",
    "    return df\n",
    "\n",
    "def load_trace(filename):\n",
    "    with open(filename) as fp:\n",
    "        vcd = VcdParser()\n",
    "        vcd.parse(fp)\n",
    "\n",
    "        root = vcd.scope.children['TOP'] \\\n",
    "                        .children['ibex_demo_system'] \\\n",
    "                        .children['u_top'] \\\n",
    "                        .children['u_ibex_core'] \\\n",
    "                        .children['if_stage_i'] \\\n",
    "                        .children['gen_prefetch_buffer'] \\\n",
    "                        .children['prefetch_buffer_i']\n",
    "\n",
    "        return load_signals_to_df(root, ['addr_o[31:0]', 'rdata_o[31:0]', 'ready_i', 'valid_o', 'branch_i'])"
   ]
  },
  {
   "cell_type": "code",
   "execution_count": 58,
   "metadata": {},
   "outputs": [],
   "source": [
    "ibex_trace_df = load_trace('../sim_ibex.vcd')\n",
    "shufflev_trace_df = load_trace('../sim_shufflev.vcd')\n",
    "\n",
    "ibex_trace_df_filter = ibex_trace_df[(ibex_trace_df['ready_i'] == '1') & (ibex_trace_df['valid_o'] == '1') & (ibex_trace_df['branch_i'] == '0')]\n",
    "shufflev_trace_df_filter = shufflev_trace_df[(shufflev_trace_df['ready_i'] == '1') & (shufflev_trace_df['valid_o'] == '1') & (shufflev_trace_df['branch_i'] == '0')]"
   ]
  },
  {
   "cell_type": "code",
   "execution_count": 60,
   "metadata": {},
   "outputs": [],
   "source": [
    "for t1, t2 in zip(ibex_trace_df_filter.iterrows(), shufflev_trace_df_filter.iterrows()):\n",
    "    # print (t1[0], hex(int(t1[1]['addr_o[31:0]'][1:], base=2)), hex(int(t1[1]['rdata_o[31:0]'][1:], base=2)), \n",
    "    #        t2[0], hex(int(t2[1]['addr_o[31:0]'][1:], base=2)), hex(int(t2[1]['rdata_o[31:0]'][1:], base=2)))\n",
    "    if (t1[1]['addr_o[31:0]'] != t2[1]['addr_o[31:0]']) or (t1[1]['rdata_o[31:0]'] != t2[1]['rdata_o[31:0]']):\n",
    "        print ('Trace mismatch at timestamp: ', t1[0], t2[0])\n",
    "        break"
   ]
  }
 ],
 "metadata": {
  "kernelspec": {
   "display_name": "ibex",
   "language": "python",
   "name": "python3"
  },
  "language_info": {
   "codemirror_mode": {
    "name": "ipython",
    "version": 3
   },
   "file_extension": ".py",
   "mimetype": "text/x-python",
   "name": "python",
   "nbconvert_exporter": "python",
   "pygments_lexer": "ipython3",
   "version": "3.8.16"
  },
  "orig_nbformat": 4
 },
 "nbformat": 4,
 "nbformat_minor": 2
}
